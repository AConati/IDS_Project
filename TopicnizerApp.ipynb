{
 "cells": [
  {
   "cell_type": "markdown",
   "id": "8347849c",
   "metadata": {},
   "source": [
    "# Restaurant Topicnizer"
   ]
  },
  {
   "cell_type": "code",
   "execution_count": 2,
   "id": "905575ce",
   "metadata": {},
   "outputs": [],
   "source": [
    "import cluster\n",
    "import os\n",
    "\n",
    "import pandas as pd\n",
    "\n",
    "from ipywidgets import Layout\n",
    "from ipywidgets import HBox\n",
    "from ipywidgets import Dropdown\n",
    "\n",
    "NUM_TOPICS = 5"
   ]
  },
  {
   "cell_type": "code",
   "execution_count": 4,
   "id": "ef16677a",
   "metadata": {},
   "outputs": [],
   "source": [
    "directory = os.fsencode(\"RestaurantData\")\n",
    "restaurant_files = []\n",
    "\n",
    "for file in os.listdir(directory):\n",
    "    filename = os.fsdecode(file)\n",
    "    if filename.endswith(\".csv\"):\n",
    "        restaurant_files.append(os.path.join(os.fsdecode(directory), filename))\n",
    "        \n",
    "restaurant_dfs = [pd.read_csv(x) for x in restaurant_files]\n",
    "restaurant_dfs = [cluster.weighted_averages_by_year(x, NUM_TOPICS) for x in restaurant_dfs]\n",
    "restaurant_names = [os.path.splitext(filename)[0] for filename in restaurant_files]\n",
    "restaurant_names = [filename.replace('_', ' ')[filename.index(\"/\")+1:] for filename in restaurant_names]\n",
    "restaurant_names = [\" \".join(filename.split()[:-2]) for filename in restaurant_names]"
   ]
  },
  {
   "cell_type": "code",
   "execution_count": 5,
   "id": "6431ea04",
   "metadata": {},
   "outputs": [
    {
     "data": {
      "application/vnd.jupyter.widget-view+json": {
       "model_id": "065d7f14baf14191b1c887b9c0e4f077",
       "version_major": 2,
       "version_minor": 0
      },
      "text/plain": [
       "HBox(children=(Dropdown(layout=Layout(width='160px'), options=('White Castle', 'Legal Sea Foods'), value='Whit…"
      ]
     },
     "metadata": {},
     "output_type": "display_data"
    }
   ],
   "source": [
    "select_topic = Dropdown(options = [\"Topic{}\".format(i) for i in range(NUM_TOPICS)], layout=Layout(width = '160px'))\n",
    "select_restaurant = Dropdown(options = restaurant_names, layout=Layout(width = '160px'))\n",
    "HBox([select_restaurant, select_topic])"
   ]
  },
  {
   "cell_type": "code",
   "execution_count": null,
   "id": "d9756bcd",
   "metadata": {},
   "outputs": [],
   "source": []
  }
 ],
 "metadata": {
  "kernelspec": {
   "display_name": "Python 3 (ipykernel)",
   "language": "python",
   "name": "python3"
  },
  "language_info": {
   "codemirror_mode": {
    "name": "ipython",
    "version": 3
   },
   "file_extension": ".py",
   "mimetype": "text/x-python",
   "name": "python",
   "nbconvert_exporter": "python",
   "pygments_lexer": "ipython3",
   "version": "3.9.6"
  }
 },
 "nbformat": 4,
 "nbformat_minor": 5
}
