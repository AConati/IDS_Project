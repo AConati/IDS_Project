{
 "cells": [
  {
   "cell_type": "markdown",
   "id": "8347849c",
   "metadata": {},
   "source": [
    "# Restaurant Topicnizer"
   ]
  },
  {
   "cell_type": "markdown",
   "id": "74b7578b-f3ed-4002-b684-8531f9e7ed30",
   "metadata": {},
   "source": [
    "## By Ari Conati, Matti Kukkamäki, Savanna Lujan"
   ]
  },
  {
   "cell_type": "code",
   "execution_count": 1,
   "id": "905575ce",
   "metadata": {},
   "outputs": [],
   "source": [
    "import cluster\n",
    "import os\n",
    "\n",
    "import pandas as pd\n",
    "import matplotlib.pyplot as plt\n",
    "import plotly.graph_objects as go\n",
    "\n",
    "from ipywidgets import Layout\n",
    "from ipywidgets import HBox, VBox\n",
    "from ipywidgets import Dropdown\n",
    "\n",
    "NUM_TOPICS = 5\n",
    "TOPICS = [\"Topic{}\".format(i) for i in range(NUM_TOPICS)]"
   ]
  },
  {
   "cell_type": "code",
   "execution_count": 2,
   "id": "ef16677a",
   "metadata": {},
   "outputs": [],
   "source": [
    "directory = os.fsencode(\"RestaurantData\")\n",
    "restaurant_files = []\n",
    "\n",
    "for file in os.listdir(directory):\n",
    "    filename = os.fsdecode(file)\n",
    "    if filename.endswith(\".csv\"):\n",
    "        restaurant_files.append(os.path.join(os.fsdecode(directory), filename))\n",
    "        \n",
    "restaurant_dfs = [pd.read_csv(x) for x in restaurant_files]\n",
    "restaurant_dfs = [cluster.weighted_averages_by_year(x, NUM_TOPICS) for x in restaurant_dfs]\n",
    "restaurant_names = [os.path.splitext(filename)[0] for filename in restaurant_files]\n",
    "restaurant_names = [filename.replace('_', ' ')[filename.index(\"/\")+1:] for filename in restaurant_names]\n",
    "restaurant_names = [\" \".join(filename.split()[:-2]) for filename in restaurant_names]"
   ]
  },
  {
   "cell_type": "code",
   "execution_count": 3,
   "id": "74c2e63a",
   "metadata": {},
   "outputs": [],
   "source": [
    "x_label = \"Year\"\n",
    "y_label = \"Review Score\"\n",
    "df = restaurant_dfs[0][0]\n",
    "\n",
    "g = go.FigureWidget(data=go.Scatter(x=df[\"year\"], y=df[\"score\"]),\n",
    "                   layout=go.Layout(\n",
    "                   title={\n",
    "                       \"text\": \"Reviews for {} ({})\".format(restaurant_names[0], TOPICS[0]),\n",
    "                       \"x\": 0.5,\n",
    "                       \"y\": 0.9,\n",
    "                       \"xanchor\": \"center\",\n",
    "                       \"yanchor\": \"top\"},\n",
    "                       xaxis_title=x_label,\n",
    "                       yaxis_title=y_label\n",
    "                   ))\n"
   ]
  },
  {
   "cell_type": "code",
   "execution_count": 6,
   "id": "6431ea04",
   "metadata": {},
   "outputs": [
    {
     "data": {
      "application/vnd.jupyter.widget-view+json": {
       "model_id": "409bc407df1042b9a9973bf0974e001c",
       "version_major": 2,
       "version_minor": 0
      },
      "text/plain": [
       "VBox(children=(HBox(children=(Dropdown(layout=Layout(width='160px'), options=('White Castle', 'Legal Sea Foods…"
      ]
     },
     "metadata": {},
     "output_type": "display_data"
    }
   ],
   "source": [
    "select_topic = Dropdown(options = TOPICS, layout=Layout(width = '160px'))\n",
    "select_restaurant = Dropdown(options = restaurant_names, layout=Layout(width = '160px'))\n",
    "\n",
    "\n",
    "def update(change):\n",
    "    with g.batch_update():\n",
    "        index_t = TOPICS.index(select_topic.value)\n",
    "        index_r = restaurant_names.index(select_restaurant.value)\n",
    "        g.data[0].y = restaurant_dfs[index_r][index_t][\"score\"]\n",
    "        g.layout = layout=go.Layout(\n",
    "                       title={\n",
    "                           \"text\": \"Reviews for {} ({})\".format(restaurant_names[index_r], TOPICS[index_t]),\n",
    "                           \"x\": 0.5,\n",
    "                           \"y\": 0.9,\n",
    "                           \"xanchor\": \"center\",\n",
    "                           \"yanchor\": \"top\"},\n",
    "                           xaxis_title=x_label,\n",
    "                           yaxis_title=y_label\n",
    "                       )\n",
    "\n",
    "select_topic.observe(update, names=\"value\")\n",
    "select_restaurant.observe(update, names=\"value\")\n",
    "\n",
    "dropdown = HBox([select_restaurant, select_topic])\n",
    "gd = VBox([dropdown, g])\n",
    "gd"
   ]
  },
  {
   "cell_type": "code",
   "execution_count": null,
   "id": "d9756bcd",
   "metadata": {},
   "outputs": [],
   "source": []
  },
  {
   "cell_type": "code",
   "execution_count": null,
   "id": "9416cbc6",
   "metadata": {},
   "outputs": [],
   "source": []
  }
 ],
 "metadata": {
  "kernelspec": {
   "display_name": "Python 3 (ipykernel)",
   "language": "python",
   "name": "python3"
  },
  "language_info": {
   "codemirror_mode": {
    "name": "ipython",
    "version": 3
   },
   "file_extension": ".py",
   "mimetype": "text/x-python",
   "name": "python",
   "nbconvert_exporter": "python",
   "pygments_lexer": "ipython3",
   "version": "3.9.6"
  }
 },
 "nbformat": 4,
 "nbformat_minor": 5
}
