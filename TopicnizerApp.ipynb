{
 "cells": [
  {
   "cell_type": "markdown",
   "id": "8347849c",
   "metadata": {},
   "source": [
    "# Restaurant Topicnizer"
   ]
  },
  {
   "cell_type": "markdown",
   "id": "74b7578b-f3ed-4002-b684-8531f9e7ed30",
   "metadata": {},
   "source": [
    "#### By Ari Conati, Matti Kukkamäki, Savanna Lujan"
   ]
  },
  {
   "cell_type": "markdown",
   "id": "b6779344-a5fa-4f86-9083-89990f7cadf3",
   "metadata": {},
   "source": [
    "Web App Description Placeholder"
   ]
  },
  {
   "cell_type": "code",
   "execution_count": 1,
   "id": "905575ce",
   "metadata": {},
   "outputs": [],
   "source": [
    "import os\n",
    "\n",
    "import pandas as pd\n",
    "import matplotlib.pyplot as plt\n",
    "import plotly.graph_objects as go\n",
    "\n",
    "from ipywidgets import Layout\n",
    "from ipywidgets import HBox, VBox\n",
    "from ipywidgets import Dropdown\n",
    "\n",
    "NUM_TOPICS = 5\n",
    "TOPICS = [\"Topic{}\".format(i) for i in range(NUM_TOPICS)]"
   ]
  },
  {
   "cell_type": "code",
   "execution_count": 5,
   "id": "3d49eeab-94c4-4776-b919-5d364c602b20",
   "metadata": {},
   "outputs": [],
   "source": [
    "def get_weighted_averages(df, num_topics):                                                             \n",
    "    topic_q = {\"Topic{}\".format(i): df[\"Topic{}\".format(i)].sum() for i in range(num_topics)}\n",
    "    topic_wa = {\"Topic{}\".format(i): (df[\"stars\"]*df[\"Topic{}\".format(i)]).sum()/topic_q[\"Topic{}\".format(i)] for i in range(num_topics)}\n",
    "    return topic_wa\n",
    "\n",
    "\n",
    "def weighted_averages_by_year(df, num_topics):\n",
    "    years = df[\"year\"].unique()\n",
    "    year_dfs = [df[df['year'] == years[i]] for i in range(len(years))]\n",
    "    topic_dfs = [[] for i in range(num_topics)]\n",
    "    for i, year_df in enumerate(year_dfs):\n",
    "        topic_wa = get_weighted_averages(year_df, num_topics)\n",
    "        for x in range(num_topics):\n",
    "            topic_dfs[x].append((years[i], topic_wa[\"Topic{}\".format(x)]))\n",
    "            \n",
    "    topic_dfs = [pd.DataFrame(x, columns=['year', 'score']) for x in topic_dfs]\n",
    "    topic_dfs = [x.sort_values([\"year\"]) for x in topic_dfs]\n",
    "    return topic_dfs"
   ]
  },
  {
   "cell_type": "code",
   "execution_count": 23,
   "id": "ef16677a",
   "metadata": {},
   "outputs": [
    {
     "data": {
      "text/html": [
       "<div>\n",
       "<style scoped>\n",
       "    .dataframe tbody tr th:only-of-type {\n",
       "        vertical-align: middle;\n",
       "    }\n",
       "\n",
       "    .dataframe tbody tr th {\n",
       "        vertical-align: top;\n",
       "    }\n",
       "\n",
       "    .dataframe thead th {\n",
       "        text-align: right;\n",
       "    }\n",
       "</style>\n",
       "<table border=\"1\" class=\"dataframe\">\n",
       "  <thead>\n",
       "    <tr style=\"text-align: right;\">\n",
       "      <th></th>\n",
       "      <th>Topic</th>\n",
       "      <th>Score</th>\n",
       "    </tr>\n",
       "  </thead>\n",
       "  <tbody>\n",
       "    <tr>\n",
       "      <th>0</th>\n",
       "      <td>Topic0</td>\n",
       "      <td>3.439923</td>\n",
       "    </tr>\n",
       "    <tr>\n",
       "      <th>1</th>\n",
       "      <td>Topic1</td>\n",
       "      <td>2.980569</td>\n",
       "    </tr>\n",
       "    <tr>\n",
       "      <th>2</th>\n",
       "      <td>Topic2</td>\n",
       "      <td>3.085647</td>\n",
       "    </tr>\n",
       "    <tr>\n",
       "      <th>3</th>\n",
       "      <td>Topic3</td>\n",
       "      <td>3.440731</td>\n",
       "    </tr>\n",
       "    <tr>\n",
       "      <th>4</th>\n",
       "      <td>Topic4</td>\n",
       "      <td>3.341612</td>\n",
       "    </tr>\n",
       "  </tbody>\n",
       "</table>\n",
       "</div>"
      ],
      "text/plain": [
       "    Topic     Score\n",
       "0  Topic0  3.439923\n",
       "1  Topic1  2.980569\n",
       "2  Topic2  3.085647\n",
       "3  Topic3  3.440731\n",
       "4  Topic4  3.341612"
      ]
     },
     "execution_count": 23,
     "metadata": {},
     "output_type": "execute_result"
    }
   ],
   "source": [
    "directory = os.fsencode(\"RestaurantData\")\n",
    "restaurant_files = []\n",
    "\n",
    "for file in os.listdir(directory):\n",
    "    filename = os.fsdecode(file)\n",
    "    if filename.endswith(\".csv\"):\n",
    "        restaurant_files.append(os.path.join(os.fsdecode(directory), filename))\n",
    "        \n",
    "raw_dfs = [pd.read_csv(x) for x in restaurant_files]\n",
    "restaurant_dfs = [weighted_averages_by_year(x, NUM_TOPICS) for x in raw_dfs]\n",
    "overall_dfs = [get_weighted_averages(x, NUM_TOPICS) for x in raw_dfs]\n",
    "overall_dfs = [pd.DataFrame(data={\"Topic\": TOPICS, \"Score\": [x[topic] for topic in TOPICS]}) for x in overall_dfs]\n",
    "\n",
    "restaurant_names = [os.path.splitext(filename)[0] for filename in restaurant_files]\n",
    "restaurant_names = [filename.replace('_', ' ')[filename.index(\"/\")+1:] for filename in restaurant_names]\n",
    "restaurant_names = [\" \".join(filename.split()[:-2]) for filename in restaurant_names]\n",
    "\n",
    "overall_dfs[0]"
   ]
  },
  {
   "cell_type": "code",
   "execution_count": 40,
   "id": "74c2e63a",
   "metadata": {},
   "outputs": [],
   "source": [
    "x_label = \"Year\"\n",
    "y_label = \"Review Score\"\n",
    "df = restaurant_dfs[0][0]\n",
    "overall = overall_dfs[0]\n",
    "\n",
    "g = go.FigureWidget(data=go.Scatter(x=df[\"year\"], y=df[\"score\"]),\n",
    "                   layout=go.Layout(\n",
    "                   title={\n",
    "                       \"text\": \"Reviews for {} ({})\".format(restaurant_names[0], TOPICS[0]),\n",
    "                       \"x\": 0.5,\n",
    "                       \"y\": 0.9,\n",
    "                       \"xanchor\": \"center\",\n",
    "                       \"yanchor\": \"top\"},\n",
    "                       xaxis_title=x_label,\n",
    "                       yaxis_title=y_label,\n",
    "                       yaxis=dict(\n",
    "                           range=[0,5]\n",
    "                       )\n",
    "                   ))\n",
    "\n",
    "g_over = go.FigureWidget(data=go.Bar(x=overall[\"Topic\"], y=overall[\"Score\"], width=[0.5]*NUM_TOPICS),\n",
    "                   layout=go.Layout(\n",
    "                   title={\n",
    "                       \"text\": \"Reviews for {}\".format(restaurant_names[0]),\n",
    "                       \"x\": 0.5,\n",
    "                       \"y\": 0.9,\n",
    "                       \"xanchor\": \"center\",\n",
    "                       \"yanchor\": \"top\"},\n",
    "                       xaxis_title=\"Topic\",\n",
    "                       yaxis_title=y_label,\n",
    "                       yaxis=dict(\n",
    "                           range=[0,5]\n",
    "                       )\n",
    "                   ))"
   ]
  },
  {
   "cell_type": "code",
   "execution_count": 43,
   "id": "6431ea04",
   "metadata": {},
   "outputs": [
    {
     "data": {
      "application/vnd.jupyter.widget-view+json": {
       "model_id": "af4993efab0941f69fb010f1e6af02e2",
       "version_major": 2,
       "version_minor": 0
      },
      "text/plain": [
       "VBox(children=(HBox(children=(Dropdown(layout=Layout(width='160px'), options=('White Castle', 'Legal Sea Foods…"
      ]
     },
     "metadata": {},
     "output_type": "display_data"
    }
   ],
   "source": [
    "select_topic = Dropdown(options = TOPICS, layout=Layout(width = '160px'))\n",
    "select_restaurant = Dropdown(options = restaurant_names, layout=Layout(width = '160px'))\n",
    "\n",
    "\n",
    "def update(change):\n",
    "    with g.batch_update():\n",
    "        index_t = TOPICS.index(select_topic.value)\n",
    "        index_r = restaurant_names.index(select_restaurant.value)\n",
    "        g.data[0].y = restaurant_dfs[index_r][index_t][\"score\"]\n",
    "        g.layout = go.Layout(\n",
    "                       title={\n",
    "                           \"text\": \"Reviews for {} ({})\".format(restaurant_names[index_r], TOPICS[index_t]),\n",
    "                           \"x\": 0.5,\n",
    "                           \"y\": 0.9,\n",
    "                           \"xanchor\": \"center\",\n",
    "                           \"yanchor\": \"top\"},\n",
    "                           xaxis_title=x_label,\n",
    "                           yaxis_title=y_label,\n",
    "                           yaxis=dict(\n",
    "                               range=[0,5]\n",
    "                       ))\n",
    "        g_over.data[0].y = overall_dfs[index_r].Score\n",
    "        g_over.layout = go.Layout(\n",
    "                   title={\n",
    "                       \"text\": \"Reviews for {}\".format(restaurant_names[index_r]),\n",
    "                       \"x\": 0.5,\n",
    "                       \"y\": 0.9,\n",
    "                       \"xanchor\": \"center\",\n",
    "                       \"yanchor\": \"top\"},\n",
    "                       xaxis_title=\"Topic\",\n",
    "                       yaxis_title=y_label,\n",
    "                       yaxis=dict(\n",
    "                           range=[0,5]\n",
    "                       )\n",
    "                   )\n",
    "\n",
    "select_topic.observe(update, names=\"value\")\n",
    "select_restaurant.observe(update, names=\"value\")\n",
    "\n",
    "dropdown = HBox([select_restaurant, select_topic])\n",
    "gd = VBox([dropdown, g_over, g])\n",
    "gd"
   ]
  },
  {
   "cell_type": "code",
   "execution_count": null,
   "id": "d9756bcd",
   "metadata": {},
   "outputs": [],
   "source": []
  },
  {
   "cell_type": "code",
   "execution_count": null,
   "id": "9416cbc6",
   "metadata": {},
   "outputs": [],
   "source": []
  }
 ],
 "metadata": {
  "kernelspec": {
   "display_name": "Python 3 (ipykernel)",
   "language": "python",
   "name": "python3"
  },
  "language_info": {
   "codemirror_mode": {
    "name": "ipython",
    "version": 3
   },
   "file_extension": ".py",
   "mimetype": "text/x-python",
   "name": "python",
   "nbconvert_exporter": "python",
   "pygments_lexer": "ipython3",
   "version": "3.9.6"
  }
 },
 "nbformat": 4,
 "nbformat_minor": 5
}
